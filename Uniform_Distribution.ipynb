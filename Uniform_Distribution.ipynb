{
 "cells": [
  {
   "cell_type": "code",
   "execution_count": 119,
   "id": "75157753",
   "metadata": {},
   "outputs": [
    {
     "data": {
      "text/plain": [
       "[Text(0.5, 0, 'Value'),\n",
       " Text(0, 0.5, 'Frequency'),\n",
       " Text(0.5, 1.0, 'Uniform Distribution')]"
      ]
     },
     "execution_count": 119,
     "metadata": {},
     "output_type": "execute_result"
    },
    {
     "data": {
      "image/png": "[encoded data removed]",
      "text/plain": [
       "<Figure size 800x200 with 1 Axes>"
      ]
     },
     "metadata": {},
     "output_type": "display_data"
    }
   ],
   "source": [
    "\"\"\"Importing required libraries \"\"\"\n",
    "\n",
    "import random as rdm\n",
    "import numpy as np\n",
    "import seaborn as sns\n",
    "\n",
    "\n",
    "\"\"\"Declaring a variable name Uniform_values to store 1000 integers\"\"\"\n",
    "Uniform_Values = [int(rdm.uniform(0, 1000)) for i in range(25)]\n",
    "\n",
    "\"\"\"Histogram X and Y axis data\"\"\"\n",
    "Value, Frequency = np.unique(Uniform_Values, return_counts=True)\n",
    "\n",
    "\n",
    "\"\"\"Importing libraries required for plotting Histogram\"\"\"\n",
    "%matplotlib inline\n",
    "import matplotlib.pyplot as plt\n",
    "\n",
    "\n",
    "\"\"\"We can customise the size,title,Xlabel and Y label as per requirments from here\"\"\"\n",
    "\n",
    "plt.figure(figsize=(8,2))\n",
    "sns.set_style('whitegrid')\n",
    "axes= sns.histplot(Uniform_Values)\n",
    "axes.set(xlabel='Value' , ylabel = 'Frequency', title='Uniform Distribution')\n",
    "\n",
    "\n",
    "\n",
    "\n"
   ]
  },
  {
   "cell_type": "markdown",
   "id": "dd35806e",
   "metadata": {},
   "source": []
  },
  {
   "cell_type": "markdown",
   "id": "7bf0713c",
   "metadata": {},
   "source": [
    "\n"
   ]
  },
  {
   "cell_type": "markdown",
   "id": "f6e39b15",
   "metadata": {},
   "source": []
  },
  {
   "cell_type": "markdown",
   "id": "ffafbf8a",
   "metadata": {},
   "source": []
  },
  {
   "cell_type": "markdown",
   "id": "08674ca9",
   "metadata": {},
   "source": []
  },
  {
   "cell_type": "markdown",
   "id": "d7bb2cd4",
   "metadata": {},
   "source": [
    "\n",
    "\n"
   ]
  },
  {
   "cell_type": "markdown",
   "id": "b61e6a4c",
   "metadata": {},
   "source": []
  },
  {
   "cell_type": "markdown",
   "id": "13c48fa6",
   "metadata": {},
   "source": []
  },
  {
   "cell_type": "markdown",
   "id": "a0d7a6d1",
   "metadata": {},
   "source": []
  },
  {
   "cell_type": "markdown",
   "id": "5af35ee9",
   "metadata": {},
   "source": []
  },
  {
   "cell_type": "markdown",
   "id": "8151bb3f",
   "metadata": {},
   "source": []
  },
  {
   "cell_type": "markdown",
   "id": "929a6c8e",
   "metadata": {},
   "source": []
  },
  {
   "cell_type": "markdown",
   "id": "2d6ed36f",
   "metadata": {},
   "source": [
    "\n"
   ]
  },
  {
   "cell_type": "markdown",
   "id": "42469012",
   "metadata": {},
   "source": [
    "                                                                                                                                                                                                                                                                                                                                                                                                                                                                                                                                                         "
   ]
  },
  {
   "cell_type": "markdown",
   "id": "bc988d86",
   "metadata": {},
   "source": []
  },
  {
   "cell_type": "markdown",
   "id": "d256c070",
   "metadata": {},
   "source": []
  }
 ],
 "metadata": {
  "kernelspec": {
   "display_name": "Python 3 (ipykernel)",
   "language": "python",
   "name": "python3"
  },
  "language_info": {
   "codemirror_mode": {
    "name": "ipython",
    "version": 3
   },
   "file_extension": ".py",
   "mimetype": "text/x-python",
   "name": "python",
   "nbconvert_exporter": "python",
   "pygments_lexer": "ipython3",
   "version": "3.9.13"
  }
 },
 "nbformat": 4,
 "nbformat_minor": 5
}
